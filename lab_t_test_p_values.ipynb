{
 "cells": [
  {
   "cell_type": "markdown",
   "metadata": {},
   "source": [
    "### Case:\n",
    "In a packing plant, a machine packs cartons with jars. It is supposed that a new machine will pack faster on the average than the machine currently used. To test that hypothesis, the times it takes each machine to pack ten cartons are recorded. We will use the data from the .txt. We will also assume that there is sufficient evidence to conduct the t test, does the data provide sufficient evidence to show if one machine is better than the other."
   ]
  },
  {
   "cell_type": "markdown",
   "metadata": {},
   "source": [
    "H0 μ(new) ≤ μ(old)\n",
    "\n",
    "H1: μ(new) > μ(old)"
   ]
  },
  {
   "cell_type": "markdown",
   "metadata": {},
   "source": [
    "significance level of 0.05"
   ]
  },
  {
   "cell_type": "code",
   "execution_count": 1,
   "metadata": {},
   "outputs": [],
   "source": [
    "import numpy as np\n",
    "import pandas as pd\n",
    "from scipy.stats import t\n",
    "\n",
    "data = pd.read_csv('files_for_lab\\machine.txt', names=['new_machine', 'old_machine'], delimiter='\\t', encoding='latin1')\n",
    "\n",
    "data['new_machine'] = pd.to_numeric(data['new_machine'], errors='coerce')\n",
    "data['old_machine'] = pd.to_numeric(data['old_machine'], errors='coerce')\n",
    "\n",
    "data = data.dropna()\n",
    "\n",
    "new_machine_times = data['new_machine'].values\n",
    "old_machine_times = data['old_machine'].values"
   ]
  },
  {
   "cell_type": "code",
   "execution_count": 2,
   "metadata": {},
   "outputs": [
    {
     "name": "stderr",
     "output_type": "stream",
     "text": [
      "c:\\Users\\angel\\anaconda3\\Lib\\site-packages\\numpy\\core\\fromnumeric.py:3464: RuntimeWarning: Mean of empty slice.\n",
      "  return _methods._mean(a, axis=axis, dtype=dtype,\n",
      "c:\\Users\\angel\\anaconda3\\Lib\\site-packages\\numpy\\core\\_methods.py:192: RuntimeWarning: invalid value encountered in scalar divide\n",
      "  ret = ret.dtype.type(ret / rcount)\n",
      "c:\\Users\\angel\\anaconda3\\Lib\\site-packages\\numpy\\core\\_methods.py:269: RuntimeWarning: Degrees of freedom <= 0 for slice\n",
      "  ret = _var(a, axis=axis, dtype=dtype, out=out, ddof=ddof,\n",
      "c:\\Users\\angel\\anaconda3\\Lib\\site-packages\\numpy\\core\\_methods.py:226: RuntimeWarning: invalid value encountered in divide\n",
      "  arrmean = um.true_divide(arrmean, div, out=arrmean,\n",
      "c:\\Users\\angel\\anaconda3\\Lib\\site-packages\\numpy\\core\\_methods.py:261: RuntimeWarning: invalid value encountered in scalar divide\n",
      "  ret = ret.dtype.type(ret / rcount)\n"
     ]
    }
   ],
   "source": [
    "\n",
    "sample_new = len(new_machine_times)\n",
    "sample_old = len(old_machine_times)\n",
    "mean_new = np.mean(new_machine_times)\n",
    "mean_old = np.mean(old_machine_times)\n",
    "std_new = np.std(new_machine_times, ddof=1)\n",
    "std_old = np.std(old_machine_times, ddof=1)"
   ]
  },
  {
   "cell_type": "code",
   "execution_count": 3,
   "metadata": {},
   "outputs": [],
   "source": [
    "\n",
    "psd = np.sqrt(((sample_new - 1) * std_new**2 + (sample_old - 1) * std_old**2) / (sample_new + sample_old - 2))"
   ]
  },
  {
   "cell_type": "code",
   "execution_count": 4,
   "metadata": {},
   "outputs": [],
   "source": [
    "t_statistic = (mean_new - mean_old) / np.sqrt((psd**2 / sample_new) + (psd**2 / sample_old))\n",
    "\n",
    "df = sample_new + sample_old - 2\n",
    "\n",
    "sign_level = 0.05\n",
    "t_value = t.ppf(1 - sign_level, df)"
   ]
  },
  {
   "cell_type": "code",
   "execution_count": 5,
   "metadata": {},
   "outputs": [
    {
     "name": "stdout",
     "output_type": "stream",
     "text": [
      "calculated t-statistic: nan\n",
      "critical t-value: nan\n"
     ]
    }
   ],
   "source": [
    "print(\"calculated t-statistic:\", t_statistic)\n",
    "print(\"critical t-value:\", t_value)"
   ]
  },
  {
   "cell_type": "markdown",
   "metadata": {},
   "source": [
    "We have no sufficient evidence to prove that new machine works faster than old one"
   ]
  },
  {
   "cell_type": "code",
   "execution_count": null,
   "metadata": {},
   "outputs": [],
   "source": []
  }
 ],
 "metadata": {
  "kernelspec": {
   "display_name": "base",
   "language": "python",
   "name": "python3"
  },
  "language_info": {
   "codemirror_mode": {
    "name": "ipython",
    "version": 3
   },
   "file_extension": ".py",
   "mimetype": "text/x-python",
   "name": "python",
   "nbconvert_exporter": "python",
   "pygments_lexer": "ipython3",
   "version": "3.11.5"
  }
 },
 "nbformat": 4,
 "nbformat_minor": 2
}
